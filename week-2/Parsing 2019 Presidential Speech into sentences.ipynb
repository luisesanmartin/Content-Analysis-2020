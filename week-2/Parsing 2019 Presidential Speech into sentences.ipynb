{
 "cells": [
  {
   "cell_type": "code",
   "execution_count": 1,
   "metadata": {},
   "outputs": [],
   "source": [
    "import requests\n",
    "\n",
    "import pdfminer.pdfinterp\n",
    "import pdfminer.converter\n",
    "import pdfminer.layout\n",
    "import pdfminer.pdfpage\n",
    "\n",
    "import csv\n",
    "import re\n",
    "import urllib.parse\n",
    "import io\n",
    "import os.path\n",
    "import os\n",
    "import random\n",
    "random.seed(853915)"
   ]
  },
  {
   "cell_type": "code",
   "execution_count": 2,
   "metadata": {},
   "outputs": [],
   "source": [
    "def downloadIfNeeded(targetURL, outputFile, **openkwargs):\n",
    "    if not os.path.isfile(outputFile):\n",
    "        outputDir = os.path.dirname(outputFile)\n",
    "        #This function is a more general os.mkdir()\n",
    "        if len(outputDir) > 0:\n",
    "            os.makedirs(outputDir, exist_ok = True)\n",
    "        r = requests.get(targetURL, stream=True)\n",
    "        #Using a closure like this is generally better than having to\n",
    "        #remember to close the file. There are ways to make this function\n",
    "        #work as a closure too\n",
    "        with open(outputFile, 'wb') as f:\n",
    "            f.write(r.content)\n",
    "    return open(outputFile, **openkwargs)"
   ]
  },
  {
   "cell_type": "code",
   "execution_count": 3,
   "metadata": {},
   "outputs": [],
   "source": [
    "def readPDF(pdfFile):\n",
    "    #Based on code from http://stackoverflow.com/a/20905381/4955164\n",
    "    #Using utf-8, if there are a bunch of random symbols try changing this\n",
    "    codec = 'utf-8'\n",
    "    rsrcmgr = pdfminer.pdfinterp.PDFResourceManager()\n",
    "    retstr = io.StringIO()\n",
    "    layoutParams = pdfminer.layout.LAParams()\n",
    "    device = pdfminer.converter.TextConverter(rsrcmgr, retstr, laparams = layoutParams) #, codec = codec)\n",
    "    #We need a device and an interpreter\n",
    "    interpreter = pdfminer.pdfinterp.PDFPageInterpreter(rsrcmgr, device)\n",
    "    password = ''\n",
    "    maxpages = 0\n",
    "    caching = True\n",
    "    pagenos=set()\n",
    "    for page in pdfminer.pdfpage.PDFPage.get_pages(pdfFile, pagenos, maxpages=maxpages, password=password,caching=caching, check_extractable=True):\n",
    "        interpreter.process_page(page)\n",
    "    device.close()\n",
    "    returnedString = retstr.getvalue()\n",
    "    retstr.close()\n",
    "    return returnedString"
   ]
  },
  {
   "cell_type": "code",
   "execution_count": 4,
   "metadata": {
    "scrolled": true
   },
   "outputs": [],
   "source": [
    "url = 'http://www.congreso.gob.pe/Docs/participacion/museo/congreso/files/mensajes/2001-2020/files/mensaje-2019-01-vizcarra.pdf'\n",
    "file = '../week-1/mensaje-2019-01-vizcarra.pdf'\n",
    "speech = readPDF(downloadIfNeeded(url, file, mode = 'rb'))"
   ]
  },
  {
   "cell_type": "code",
   "execution_count": 5,
   "metadata": {},
   "outputs": [
    {
     "data": {
      "text/plain": [
       "'DISCURSO DEL PRESIDENTE CONSTITUCIONAL DE LA REPÚBLICA, \\n\\nINGENIERO MARTÍN ALBERTO VIZCARRA CORNEJO, \\n\\nANTE EL CONGRESO NACIONAL, EL 28 DE JULIO DE 20191 \\n\\n \\n \\nSeñor Presidente del Congreso de la República; \\nSeñoras y señores congresistas; \\nSeñoras y señores ministros de Estado; \\nDistinguidas autoridades civiles y militares; \\nMiembros del cuerpo diplomático acreditado en el Perú; \\nCompatriotas, a lo largo y ancho del país: \\n \\nDe conformidad al artículo 118 de la Constitución Política del Estado,'"
      ]
     },
     "execution_count": 5,
     "metadata": {},
     "output_type": "execute_result"
    }
   ],
   "source": [
    "speech[:500]"
   ]
  },
  {
   "cell_type": "code",
   "execution_count": 6,
   "metadata": {},
   "outputs": [],
   "source": [
    "sentences1 = re.findall('[A-Z¿¡][^.]*\\.',speech, re.DOTALL)"
   ]
  },
  {
   "cell_type": "code",
   "execution_count": 7,
   "metadata": {
    "scrolled": true
   },
   "outputs": [],
   "source": [
    "sentences = []\n",
    "for i, sentence in enumerate(sentences1):\n",
    "    new_sentence = re.sub('\\n\\n \\n\\n[0-9]+ \\n\\n\\x0c', '', sentence)\n",
    "    new_sentence = re.findall('[A-Z¿¡](?!.*\\n \\n).*\\.', new_sentence, re.DOTALL)[0]\n",
    "    new_sentence = re.sub('\\n', '', new_sentence)\n",
    "    if not 'https://' in new_sentence:\n",
    "        sentences.append(new_sentence)"
   ]
  },
  {
   "cell_type": "code",
   "execution_count": 8,
   "metadata": {},
   "outputs": [
    {
     "data": {
      "text/plain": [
       "['Las  vías  de  comunicación  generan  desarrollo,  facilitan  el traslado de los productos, fomentan el turismo; y además, son elemento integrador para  las  familias,  porque  permiten  acortar  distancias,  mejorar  la  salud  y  la educación.',\n",
       " 'En  el  presente  año  estamos  pavimentando  más  de  mil  doscientos  kilómetros  de carreteras, con una inversión que supera los 3,400 millones de soles en doce obras, como parte de la Red Vial Nacional, que tiene el 80% de pavimento, de sus veintiséis mil  ochocientos  kilómetros  que  la  conforman.',\n",
       " 'A  este  ritmo  la  Red  Vial  Nacional estará pavimentada al 100% en cinco años.',\n",
       " 'Sin embargo, donde hay un enorme retraso es en la Red Vial Departamental, que solo tiene el 13% de pavimento de los veintisiete mil quinientos kilómetros que la conforman.',\n",
       " 'Por ello, anuncio el Proyecto de Infraestructura de la Red Vial Departamental, que incluye  quince  mil  kilómetros  de  pavimento,  uniendo  cuarenta  y  dos  corredores logísticos,  con  una  inversión  que  supera  los  20,000  millones  de  soles.',\n",
       " 'Se  ha coordinado con la CAF para garantizar el respaldo financiero necesario.',\n",
       " 'En cinco años  el  programa  que  diseñamos  cubrirá  el  70%  de  la  Red  Vial  Departamental.',\n",
       " 'Vamos a pasar, en cinco años, de 13% a 70% de pavimento en esta importante red integradora,  disminuyendo  ostensiblemente infraestructura  y constituyendo una revolución para el transporte en las regiones del país.',\n",
       " 'Esta red llegará hasta el último rincón de nuestro territorio y será coordinado en sus alcances con todos los gobiernos regionales.',\n",
       " 'Será como el nuevo Qhapaq Ñan del siglo XXI.',\n",
       " 'Está  en  marcha  la  construcción  de  la  segunda  pista  de  aterrizaje  y  del  nuevo terminal de pasajeros del Aeropuerto Internacional Jorge Chávez, lo que garantiza su culminación y puesta en servicio para el año 2022.',\n",
       " 'Otro proyecto relegado por más de cuarenta años es el Aeropuerto Internacional de Chinchero, un anhelo largamente esperado por la población cusqueña.',\n",
       " 'Y hoy ya se eligió al país que nos brindará la asistencia técnica y tenemos previsto el inicio de obras  de  la  construcción  para  el  próximo  año;  pero  debe  quedar  claro  que  se respetará el legado arqueológico, natural, histórico y cultural del Cusco, así como las fuentes de agua de las que dispone.',\n",
       " 'En cuanto a puertos, se ha firmado el compromiso para el desarrollo del Terminal Portuario  Multipropósito  de  Chancay,  un  mega  puerto  que  le  inyectará  a  nuestra economía  más  de  3,000  millones  de  dólares  y  generará  alrededor  de  quince  mil puestos de trabajo.',\n",
       " 'Y en conectividad digital, hemos iniciado la operación de tres proyectos regionales de  banda  ancha  en  las  regiones  Huancavelica,  Apurímac  y  Ayacucho,  con  un financiamiento de 280 millones de dólares, y cuyo alcance permite que doscientas sesenta capitales distritales estén conectadas en beneficio de dos mil cien colegios, establecimientos de salud y comisarías.',\n",
       " 'Además, suscribimos los contratos para la construcción del mismo  proyecto de banda ancha en  los proyectos regionales en San Martín, La Libertad, Arequipa y Áncash.',\n",
       " 'El acceso a una vivienda digna incrementa significativamente la calidad de vida y el potencial de desarrollo de peruanas y peruanos.',\n",
       " 'En lo que va de mi gobierno hemos construido cincuenta mil viviendas rurales para los damnificados del norte y los que sufren  de  heladas  en  el  sur.',\n",
       " 'Además,  se  ha  otorgado  a  cien  mil  familias  los programas  con  el  Bono  Familiar  Habitacional,  acceso  a  créditos  a  través  de  Mi Vivienda y a los bonos de protección de viviendas vulnerables.',\n",
       " 'El acceso a agua potable y a un sistema de alcantarillado eficiente es un derecho fundamental.']"
      ]
     },
     "execution_count": 8,
     "metadata": {},
     "output_type": "execute_result"
    }
   ],
   "source": [
    "sentences[90:110]"
   ]
  },
  {
   "cell_type": "code",
   "execution_count": 9,
   "metadata": {},
   "outputs": [],
   "source": [
    "num_sample = 100"
   ]
  },
  {
   "cell_type": "code",
   "execution_count": 10,
   "metadata": {},
   "outputs": [],
   "source": [
    "samples = []\n",
    "max_number = len(sentences) - 1\n",
    "while len(samples) < num_sample:\n",
    "    number = random.randint(0, max_number)\n",
    "    if not number in samples:\n",
    "        samples.append(number)"
   ]
  },
  {
   "cell_type": "code",
   "execution_count": 11,
   "metadata": {},
   "outputs": [],
   "source": [
    "sentences_sample = [sentences[i] for i in samples]"
   ]
  },
  {
   "cell_type": "code",
   "execution_count": 12,
   "metadata": {},
   "outputs": [
    {
     "data": {
      "text/plain": [
       "['Este número es importante, pero insuficiente, dada la gran necesidad de titulación que existe en el Perú.',\n",
       " 'Tenemos  mayor  celeridad  en  procesos  contenciosos  administrativos judiciales gracias a la eliminación de la emisión del dictamen fiscal.',\n",
       " 'Hoy  Lima  2019  está  cambiando  positivamente  la  forma  en  que  se  realizan,  se disfrutan  y  se  organizan  eventos  deportivos  en  el  Perú.',\n",
       " 'Por ello, la descentralización ha sido, es y seguirá siendo nuestro sello de gobierno.',\n",
       " 'Durante el 2018 el PBI del sector agropecuario creció 7.',\n",
       " 'Algunas  autoridades  del  más  alto  nivel  nos estaban robando el país.',\n",
       " 'Sin embargo, la norma que la rige tiene cerca de treinta años de vigencia, y se hace necesario actualizarla para  que  se  adecúe  a  nuestra  realidad,  brindando  un  marco  legal  claro  a  los inversionistas, y dando tranquilidad y desarrollo para todos.',\n",
       " 'Hoy  el  Perú  ya  cuenta  con  un  nuevo  y  moderno  Centro  de Operaciones  de  Emergencia  Nacional  (COEN),  en  el  distrito  de  Chorrillos, inaugurado hace escasamente diez días.',\n",
       " 'Es la voluntad de un pueblo valiente y luchador que alienta y estimula la construcción de un verdadero Estado de derecho.',\n",
       " 'Mi gobierno ha dispuesto el “Acceso Universal en Salud”, para todos los peruanos y peruanas.',\n",
       " 'Uno de los objetivos de este gobierno es entregar el Museo Nacional de Arqueología (MUNA) que se viene construyendo en Pachacamac, y que ya se proyecta como el más imponente de América Latina, con capacidad para recibir hasta 15,000 visitas por día y albergar todas las colecciones museográficas del Perú.',\n",
       " 'Es nuestro compromiso con  el  Perú  del  Bicentenario  construir  un  país  con  instituciones  sólidas  y transparentes.',\n",
       " 'Muchas gracias.',\n",
       " 'Este año hemos aprobado el nuevo “Plan Nacional de Seguridad Ciudadana 2019- 2023”,  con  un  enfoque  descentralizado,  que  impulsa  la  unión  de  esfuerzos  y recursos de los tres niveles de gobierno.',\n",
       " 'Esto implica no solo consolidar el desarrollo del sector agroexportador y minero que han venido sosteniendo  el  crecimiento  y  la  generación  de  empleo  en  los  últimos  años,  sino, además, facilitar las inversiones en otros sectores.',\n",
       " 'Será como el nuevo Qhapaq Ñan del siglo XXI.',\n",
       " 'Se han  desarrollado 185,000 visitas dirigidas a 77,000 niños de entre 4 a 11 meses de edad.',\n",
       " 'Del  mismo  modo,  hemos  encontrado  obstáculos  y  resistencias  para  sacar adelante la reforma política.',\n",
       " 'En  apoyo  a  la  micro  y  pequeña  empresa  se  han  lanzado  con  éxito  nuevas convocatorias del Programa de Apoyo a la Internacionalización del sector Comercio Exterior y del Programa Turismo Emprende.',\n",
       " 'Si  trabajamos  unidos,  los  peruanos  somos  capaces  de  todo.']"
      ]
     },
     "execution_count": 12,
     "metadata": {},
     "output_type": "execute_result"
    }
   ],
   "source": [
    "sentences_sample[:20]"
   ]
  },
  {
   "cell_type": "code",
   "execution_count": 13,
   "metadata": {
    "scrolled": false
   },
   "outputs": [
    {
     "data": {
      "text/plain": [
       "100"
      ]
     },
     "execution_count": 13,
     "metadata": {},
     "output_type": "execute_result"
    }
   ],
   "source": [
    "len(sentences_sample)"
   ]
  },
  {
   "cell_type": "code",
   "execution_count": 14,
   "metadata": {},
   "outputs": [],
   "source": [
    "sample_file = 'sample_sentences.csv'\n",
    "with open(sample_file, 'w', newline='') as file:\n",
    "    wr = csv.writer(file)\n",
    "    wr.writerow(['N','sentence'])\n",
    "    for i, sentence in enumerate(sentences_sample):\n",
    "        wr.writerow([i + 1, sentence])"
   ]
  },
  {
   "cell_type": "code",
   "execution_count": 15,
   "metadata": {},
   "outputs": [],
   "source": [
    "others_file = 'uncoded_sentences.csv'\n",
    "with open(others_file, 'w', newline='') as file:\n",
    "    wr = csv.writer(file)\n",
    "    wr.writerow(['N','sentence'])\n",
    "    i = 1\n",
    "    for sentence in sentences:\n",
    "        if not sentence in sentences_sample:\n",
    "            wr.writerow([i, sentence])\n",
    "            i += 1"
   ]
  }
 ],
 "metadata": {
  "kernelspec": {
   "display_name": "Python 3",
   "language": "python",
   "name": "python3"
  },
  "language_info": {
   "codemirror_mode": {
    "name": "ipython",
    "version": 3
   },
   "file_extension": ".py",
   "mimetype": "text/x-python",
   "name": "python",
   "nbconvert_exporter": "python",
   "pygments_lexer": "ipython3",
   "version": "3.6.9"
  }
 },
 "nbformat": 4,
 "nbformat_minor": 2
}
